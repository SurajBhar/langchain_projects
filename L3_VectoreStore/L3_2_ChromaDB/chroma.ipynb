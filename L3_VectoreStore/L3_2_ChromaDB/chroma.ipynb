{
 "cells": [
  {
   "cell_type": "markdown",
   "metadata": {},
   "source": [
    "# Chroma DB\n",
    "- Chroma is a AI-native open source vector database focused on developer productivity and happiness.\n",
    "- Chroma is licensed under Apache 2.0.\n",
    "- More on available vectore store: https://python.langchain.com/docs/integrations/vectorstores/"
   ]
  },
  {
   "cell_type": "markdown",
   "metadata": {},
   "source": [
    "# Sample Vector Database"
   ]
  },
  {
   "cell_type": "code",
   "execution_count": 1,
   "metadata": {},
   "outputs": [],
   "source": [
    "from langchain_chroma import Chroma\n",
    "from langchain_community.document_loaders import TextLoader\n",
    "from langchain_community.embeddings import OllamaEmbeddings\n",
    "from langchain_text_splitters import RecursiveCharacterTextSplitter"
   ]
  },
  {
   "cell_type": "code",
   "execution_count": 2,
   "metadata": {},
   "outputs": [
    {
     "data": {
      "text/plain": [
       "[Document(metadata={'source': '/Users/surajbhardwaj/Desktop/Langchain/L3_VectoreStore/L3_1_FAISS/speech.txt'}, page_content='A text file (sometimes spelled textfile; \\nan old alternative name is flat file) is a kind of computer file \\nthat is structured as a sequence of lines of electronic text. \\nA text file exists stored as data within a computer file system.\\n\\nIn operating systems such as CP/M, where the operating system does \\nnot keep track of the file size in bytes, the end of a text file is \\ndenoted by placing one or more special characters, \\nknown as an end-of-file (EOF) marker, as padding after the last \\nline in a text file. In modern operating systems such as DOS, \\nMicrosoft Windows and Unix-like systems, \\ntext files do not contain any special EOF character, \\nbecause file systems on those operating systems \\nkeep track of the file size in bytes.\\n\\nSome operating systems, such as Multics, Unix-like systems, \\nCP/M, DOS, the classic Mac OS, and Windows, \\nstore text files as a sequence of bytes, \\nwith an end-of-line delimiter at the end of each line. \\nOther operating systems, such as OpenVMS and OS/360 \\nand its successors, have record-oriented filesystems, \\nin which text files are stored as a sequence either of \\nfixed-length records or of variable-length records with a \\nrecord-length value in the record header.\\n\\n\"Text file\" refers to a type of container, \\nwhile plain text refers to a type of content.')]"
      ]
     },
     "execution_count": 2,
     "metadata": {},
     "output_type": "execute_result"
    }
   ],
   "source": [
    "loader = TextLoader(\"/Users/surajbhardwaj/Desktop/Langchain/L3_VectoreStore/L3_1_FAISS/speech.txt\")\n",
    "data = loader.load()\n",
    "data"
   ]
  },
  {
   "cell_type": "code",
   "execution_count": 3,
   "metadata": {},
   "outputs": [],
   "source": [
    "# Split\n",
    "text_splitter = RecursiveCharacterTextSplitter(chunk_size=500, chunk_overlap=0)\n",
    "splits = text_splitter.split_documents(data)"
   ]
  },
  {
   "cell_type": "code",
   "execution_count": 4,
   "metadata": {},
   "outputs": [
    {
     "name": "stderr",
     "output_type": "stream",
     "text": [
      "/var/folders/qx/wfxbxfl923n7cp3n1r8hw6n00000gn/T/ipykernel_19295/1642305021.py:1: LangChainDeprecationWarning: The class `OllamaEmbeddings` was deprecated in LangChain 0.3.1 and will be removed in 1.0.0. An updated version of the class exists in the :class:`~langchain-ollama package and should be used instead. To use it run `pip install -U :class:`~langchain-ollama` and import as `from :class:`~langchain_ollama import OllamaEmbeddings``.\n",
      "  embedding = OllamaEmbeddings(model=\"llama3.2\")\n"
     ]
    },
    {
     "data": {
      "text/plain": [
       "<langchain_chroma.vectorstores.Chroma at 0x7fadf867e4d0>"
      ]
     },
     "execution_count": 4,
     "metadata": {},
     "output_type": "execute_result"
    }
   ],
   "source": [
    "embedding = OllamaEmbeddings(model=\"llama3.2\")\n",
    "vectordb = Chroma.from_documents(documents=splits, embedding=embedding)\n",
    "vectordb"
   ]
  },
  {
   "cell_type": "code",
   "execution_count": 5,
   "metadata": {},
   "outputs": [],
   "source": [
    "query = \"What is a text file?\"\n",
    "docs = vectordb.similarity_search(query)"
   ]
  },
  {
   "cell_type": "code",
   "execution_count": 6,
   "metadata": {},
   "outputs": [
    {
     "data": {
      "text/plain": [
       "'A text file (sometimes spelled textfile; \\nan old alternative name is flat file) is a kind of computer file \\nthat is structured as a sequence of lines of electronic text. \\nA text file exists stored as data within a computer file system.'"
      ]
     },
     "execution_count": 6,
     "metadata": {},
     "output_type": "execute_result"
    }
   ],
   "source": [
    "docs[0].page_content"
   ]
  },
  {
   "cell_type": "code",
   "execution_count": 7,
   "metadata": {},
   "outputs": [],
   "source": [
    "# Save to the local disk\n",
    "vectordb = Chroma.from_documents(documents=splits, embedding=embedding, persist_directory=\"./chroma_db\")\n"
   ]
  },
  {
   "cell_type": "code",
   "execution_count": 8,
   "metadata": {},
   "outputs": [
    {
     "name": "stdout",
     "output_type": "stream",
     "text": [
      "A text file (sometimes spelled textfile; \n",
      "an old alternative name is flat file) is a kind of computer file \n",
      "that is structured as a sequence of lines of electronic text. \n",
      "A text file exists stored as data within a computer file system.\n"
     ]
    }
   ],
   "source": [
    "# Load a vector database from the disk\n",
    "db2 = Chroma(persist_directory=\"./chroma_db/\", embedding_function=embedding)\n",
    "docs = db2.similarity_search(query)\n",
    "print(docs[0].page_content)"
   ]
  },
  {
   "cell_type": "markdown",
   "metadata": {},
   "source": [
    "# Similarity search with L2 (Euclidean Score)"
   ]
  },
  {
   "cell_type": "code",
   "execution_count": 11,
   "metadata": {},
   "outputs": [
    {
     "data": {
      "text/plain": [
       "[(Document(metadata={'source': '/Users/surajbhardwaj/Desktop/Langchain/L3_VectoreStore/L3_1_FAISS/speech.txt'}, page_content='A text file (sometimes spelled textfile; \\nan old alternative name is flat file) is a kind of computer file \\nthat is structured as a sequence of lines of electronic text. \\nA text file exists stored as data within a computer file system.'),\n",
       "  5368.700921485091),\n",
       " (Document(metadata={'source': '/Users/surajbhardwaj/Desktop/Langchain/L3_VectoreStore/L3_1_FAISS/speech.txt'}, page_content='\"Text file\" refers to a type of container, \\nwhile plain text refers to a type of content.'),\n",
       "  5750.455955366129),\n",
       " (Document(metadata={'source': '/Users/surajbhardwaj/Desktop/Langchain/L3_VectoreStore/L3_1_FAISS/speech.txt'}, page_content='keep track of the file size in bytes.'),\n",
       "  5960.163700314714),\n",
       " (Document(metadata={'source': '/Users/surajbhardwaj/Desktop/Langchain/L3_VectoreStore/L3_1_FAISS/speech.txt'}, page_content='Some operating systems, such as Multics, Unix-like systems, \\nCP/M, DOS, the classic Mac OS, and Windows, \\nstore text files as a sequence of bytes, \\nwith an end-of-line delimiter at the end of each line. \\nOther operating systems, such as OpenVMS and OS/360 \\nand its successors, have record-oriented filesystems, \\nin which text files are stored as a sequence either of \\nfixed-length records or of variable-length records with a \\nrecord-length value in the record header.'),\n",
       "  6913.72007726275)]"
      ]
     },
     "execution_count": 11,
     "metadata": {},
     "output_type": "execute_result"
    }
   ],
   "source": [
    "docs = vectordb.similarity_search_with_score(query)\n",
    "docs"
   ]
  },
  {
   "cell_type": "markdown",
   "metadata": {},
   "source": [
    "# Retriever"
   ]
  },
  {
   "cell_type": "code",
   "execution_count": 12,
   "metadata": {},
   "outputs": [
    {
     "data": {
      "text/plain": [
       "'A text file (sometimes spelled textfile; \\nan old alternative name is flat file) is a kind of computer file \\nthat is structured as a sequence of lines of electronic text. \\nA text file exists stored as data within a computer file system.'"
      ]
     },
     "execution_count": 12,
     "metadata": {},
     "output_type": "execute_result"
    }
   ],
   "source": [
    "retriever = vectordb.as_retriever()\n",
    "retriever.invoke(query)[0].page_content"
   ]
  },
  {
   "cell_type": "code",
   "execution_count": null,
   "metadata": {},
   "outputs": [],
   "source": []
  }
 ],
 "metadata": {
  "kernelspec": {
   "display_name": "langchain",
   "language": "python",
   "name": "python3"
  },
  "language_info": {
   "codemirror_mode": {
    "name": "ipython",
    "version": 3
   },
   "file_extension": ".py",
   "mimetype": "text/x-python",
   "name": "python",
   "nbconvert_exporter": "python",
   "pygments_lexer": "ipython3",
   "version": "3.10.0"
  }
 },
 "nbformat": 4,
 "nbformat_minor": 2
}
